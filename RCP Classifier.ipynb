{
 "cells": [
  {
   "cell_type": "code",
   "execution_count": 1,
   "metadata": {},
   "outputs": [
    {
     "name": "stderr",
     "output_type": "stream",
     "text": [
      "Using TensorFlow backend.\n"
     ]
    }
   ],
   "source": [
    "# Necessary imports\n",
    "import nltk\n",
    "import numpy as np\n",
    "import pandas as pd\n",
    "import tensorflow as tf\n",
    "from tensorflow import keras\n",
    "from keras.preprocessing.text import Tokenizer\n",
    "import matplotlib.pyplot as plt\n",
    "from sklearn.preprocessing import normalize\n",
    "from sklearn.utils import shuffle\n",
    "from sklearn.model_selection import train_test_split"
   ]
  },
  {
   "cell_type": "code",
   "execution_count": 2,
   "metadata": {},
   "outputs": [],
   "source": [
    "df_pos = pd.read_csv(open('clean_positive_train.csv','r'), encoding='utf-8', engine='c')\n",
    "df_neg = pd.read_csv(open('clean_negative_train.csv','r'), encoding='utf-8', engine='c')\n",
    "\n",
    "df_pos['text'] = df_pos['text'].astype(str)\n",
    "df_pos['parent_text'] = df_pos['parent_text'].astype(str)\n",
    "\n",
    "df_neg['text'] = df_neg['text'].astype(str)\n",
    "df_neg['parent_text'] = df_neg['parent_text'].astype(str)"
   ]
  },
  {
   "cell_type": "code",
   "execution_count": 3,
   "metadata": {},
   "outputs": [
    {
     "data": {
      "text/html": [
       "<div>\n",
       "<style scoped>\n",
       "    .dataframe tbody tr th:only-of-type {\n",
       "        vertical-align: middle;\n",
       "    }\n",
       "\n",
       "    .dataframe tbody tr th {\n",
       "        vertical-align: top;\n",
       "    }\n",
       "\n",
       "    .dataframe thead th {\n",
       "        text-align: right;\n",
       "    }\n",
       "</style>\n",
       "<table border=\"1\" class=\"dataframe\">\n",
       "  <thead>\n",
       "    <tr style=\"text-align: right;\">\n",
       "      <th></th>\n",
       "      <th>score</th>\n",
       "      <th>ups</th>\n",
       "      <th>controversiality</th>\n",
       "      <th>parent_score</th>\n",
       "      <th>parent_ups</th>\n",
       "      <th>parent_controversiality</th>\n",
       "    </tr>\n",
       "  </thead>\n",
       "  <tbody>\n",
       "    <tr>\n",
       "      <th>count</th>\n",
       "      <td>99999.0</td>\n",
       "      <td>99999.000000</td>\n",
       "      <td>99999.000000</td>\n",
       "      <td>99999.000000</td>\n",
       "      <td>99999.000000</td>\n",
       "      <td>99999.00000</td>\n",
       "    </tr>\n",
       "    <tr>\n",
       "      <th>mean</th>\n",
       "      <td>1.0</td>\n",
       "      <td>198.155082</td>\n",
       "      <td>0.000020</td>\n",
       "      <td>0.990770</td>\n",
       "      <td>368.973070</td>\n",
       "      <td>0.00064</td>\n",
       "    </tr>\n",
       "    <tr>\n",
       "      <th>std</th>\n",
       "      <td>0.0</td>\n",
       "      <td>256.334734</td>\n",
       "      <td>0.004472</td>\n",
       "      <td>0.095629</td>\n",
       "      <td>535.679712</td>\n",
       "      <td>0.02529</td>\n",
       "    </tr>\n",
       "    <tr>\n",
       "      <th>min</th>\n",
       "      <td>1.0</td>\n",
       "      <td>66.000000</td>\n",
       "      <td>0.000000</td>\n",
       "      <td>0.000000</td>\n",
       "      <td>-8907.000000</td>\n",
       "      <td>0.00000</td>\n",
       "    </tr>\n",
       "    <tr>\n",
       "      <th>25%</th>\n",
       "      <td>1.0</td>\n",
       "      <td>83.000000</td>\n",
       "      <td>0.000000</td>\n",
       "      <td>1.000000</td>\n",
       "      <td>84.000000</td>\n",
       "      <td>0.00000</td>\n",
       "    </tr>\n",
       "    <tr>\n",
       "      <th>50%</th>\n",
       "      <td>1.0</td>\n",
       "      <td>116.000000</td>\n",
       "      <td>0.000000</td>\n",
       "      <td>1.000000</td>\n",
       "      <td>184.000000</td>\n",
       "      <td>0.00000</td>\n",
       "    </tr>\n",
       "    <tr>\n",
       "      <th>75%</th>\n",
       "      <td>1.0</td>\n",
       "      <td>200.000000</td>\n",
       "      <td>0.000000</td>\n",
       "      <td>1.000000</td>\n",
       "      <td>417.000000</td>\n",
       "      <td>0.00000</td>\n",
       "    </tr>\n",
       "    <tr>\n",
       "      <th>max</th>\n",
       "      <td>1.0</td>\n",
       "      <td>5488.000000</td>\n",
       "      <td>1.000000</td>\n",
       "      <td>1.000000</td>\n",
       "      <td>9531.000000</td>\n",
       "      <td>1.00000</td>\n",
       "    </tr>\n",
       "  </tbody>\n",
       "</table>\n",
       "</div>"
      ],
      "text/plain": [
       "         score           ups  controversiality  parent_score    parent_ups  \\\n",
       "count  99999.0  99999.000000      99999.000000  99999.000000  99999.000000   \n",
       "mean       1.0    198.155082          0.000020      0.990770    368.973070   \n",
       "std        0.0    256.334734          0.004472      0.095629    535.679712   \n",
       "min        1.0     66.000000          0.000000      0.000000  -8907.000000   \n",
       "25%        1.0     83.000000          0.000000      1.000000     84.000000   \n",
       "50%        1.0    116.000000          0.000000      1.000000    184.000000   \n",
       "75%        1.0    200.000000          0.000000      1.000000    417.000000   \n",
       "max        1.0   5488.000000          1.000000      1.000000   9531.000000   \n",
       "\n",
       "       parent_controversiality  \n",
       "count              99999.00000  \n",
       "mean                   0.00064  \n",
       "std                    0.02529  \n",
       "min                    0.00000  \n",
       "25%                    0.00000  \n",
       "50%                    0.00000  \n",
       "75%                    0.00000  \n",
       "max                    1.00000  "
      ]
     },
     "execution_count": 3,
     "metadata": {},
     "output_type": "execute_result"
    }
   ],
   "source": [
    "df_pos.describe()"
   ]
  },
  {
   "cell_type": "code",
   "execution_count": 4,
   "metadata": {},
   "outputs": [
    {
     "data": {
      "text/html": [
       "<div>\n",
       "<style scoped>\n",
       "    .dataframe tbody tr th:only-of-type {\n",
       "        vertical-align: middle;\n",
       "    }\n",
       "\n",
       "    .dataframe tbody tr th {\n",
       "        vertical-align: top;\n",
       "    }\n",
       "\n",
       "    .dataframe thead th {\n",
       "        text-align: right;\n",
       "    }\n",
       "</style>\n",
       "<table border=\"1\" class=\"dataframe\">\n",
       "  <thead>\n",
       "    <tr style=\"text-align: right;\">\n",
       "      <th></th>\n",
       "      <th>score</th>\n",
       "      <th>ups</th>\n",
       "      <th>controversiality</th>\n",
       "      <th>parent_score</th>\n",
       "      <th>parent_ups</th>\n",
       "      <th>parent_controversiality</th>\n",
       "    </tr>\n",
       "  </thead>\n",
       "  <tbody>\n",
       "    <tr>\n",
       "      <th>count</th>\n",
       "      <td>99998.0</td>\n",
       "      <td>99998.000000</td>\n",
       "      <td>99998.000000</td>\n",
       "      <td>99998.000000</td>\n",
       "      <td>99998.000000</td>\n",
       "      <td>99998.000000</td>\n",
       "    </tr>\n",
       "    <tr>\n",
       "      <th>mean</th>\n",
       "      <td>0.0</td>\n",
       "      <td>-14.583632</td>\n",
       "      <td>0.001490</td>\n",
       "      <td>0.912518</td>\n",
       "      <td>67.440239</td>\n",
       "      <td>0.002720</td>\n",
       "    </tr>\n",
       "    <tr>\n",
       "      <th>std</th>\n",
       "      <td>0.0</td>\n",
       "      <td>15.649932</td>\n",
       "      <td>0.038572</td>\n",
       "      <td>0.282541</td>\n",
       "      <td>219.047635</td>\n",
       "      <td>0.052083</td>\n",
       "    </tr>\n",
       "    <tr>\n",
       "      <th>min</th>\n",
       "      <td>0.0</td>\n",
       "      <td>-1077.000000</td>\n",
       "      <td>0.000000</td>\n",
       "      <td>0.000000</td>\n",
       "      <td>-1622.000000</td>\n",
       "      <td>0.000000</td>\n",
       "    </tr>\n",
       "    <tr>\n",
       "      <th>25%</th>\n",
       "      <td>0.0</td>\n",
       "      <td>-15.000000</td>\n",
       "      <td>0.000000</td>\n",
       "      <td>1.000000</td>\n",
       "      <td>6.000000</td>\n",
       "      <td>0.000000</td>\n",
       "    </tr>\n",
       "    <tr>\n",
       "      <th>50%</th>\n",
       "      <td>0.0</td>\n",
       "      <td>-10.000000</td>\n",
       "      <td>0.000000</td>\n",
       "      <td>1.000000</td>\n",
       "      <td>15.000000</td>\n",
       "      <td>0.000000</td>\n",
       "    </tr>\n",
       "    <tr>\n",
       "      <th>75%</th>\n",
       "      <td>0.0</td>\n",
       "      <td>-8.000000</td>\n",
       "      <td>0.000000</td>\n",
       "      <td>1.000000</td>\n",
       "      <td>44.000000</td>\n",
       "      <td>0.000000</td>\n",
       "    </tr>\n",
       "    <tr>\n",
       "      <th>max</th>\n",
       "      <td>0.0</td>\n",
       "      <td>-6.000000</td>\n",
       "      <td>1.000000</td>\n",
       "      <td>1.000000</td>\n",
       "      <td>14776.000000</td>\n",
       "      <td>1.000000</td>\n",
       "    </tr>\n",
       "  </tbody>\n",
       "</table>\n",
       "</div>"
      ],
      "text/plain": [
       "         score           ups  controversiality  parent_score    parent_ups  \\\n",
       "count  99998.0  99998.000000      99998.000000  99998.000000  99998.000000   \n",
       "mean       0.0    -14.583632          0.001490      0.912518     67.440239   \n",
       "std        0.0     15.649932          0.038572      0.282541    219.047635   \n",
       "min        0.0  -1077.000000          0.000000      0.000000  -1622.000000   \n",
       "25%        0.0    -15.000000          0.000000      1.000000      6.000000   \n",
       "50%        0.0    -10.000000          0.000000      1.000000     15.000000   \n",
       "75%        0.0     -8.000000          0.000000      1.000000     44.000000   \n",
       "max        0.0     -6.000000          1.000000      1.000000  14776.000000   \n",
       "\n",
       "       parent_controversiality  \n",
       "count             99998.000000  \n",
       "mean                  0.002720  \n",
       "std                   0.052083  \n",
       "min                   0.000000  \n",
       "25%                   0.000000  \n",
       "50%                   0.000000  \n",
       "75%                   0.000000  \n",
       "max                   1.000000  "
      ]
     },
     "execution_count": 4,
     "metadata": {},
     "output_type": "execute_result"
    }
   ],
   "source": [
    "df_neg.describe()"
   ]
  },
  {
   "cell_type": "markdown",
   "metadata": {},
   "source": [
    "We now have a a fraction of our dataset cleaned and loaded. The next step is to combine the two datasets, and shuffle them. After that we divide the datasets in a train and test set."
   ]
  },
  {
   "cell_type": "code",
   "execution_count": 5,
   "metadata": {},
   "outputs": [
    {
     "name": "stdout",
     "output_type": "stream",
     "text": [
      "X_train: (159997,)\n",
      "X_test: (40000,)\n",
      "y_train: (159997,)\n",
      "y_test: (40000,)\n"
     ]
    }
   ],
   "source": [
    "# First we concatenate both lists and shuffle it to scrabble positive and negative\n",
    "df = pd.concat([df_pos, df_neg])\n",
    "df = df.sample(frac=1).reset_index(drop=True)\n",
    "df.dropna(axis=0, inplace=True)\n",
    "\n",
    "# Second we split our data for training and testing\n",
    "df['combined'] = df[['text', 'parent_text']].apply(lambda x: ' '.join(x), axis=1)\n",
    "\n",
    "text_data = df['combined']\n",
    "text_score = df['score']\n",
    "# parent_text_data = df['parent_text']\n",
    "# parent_text_score = df['parent_score']\n",
    "X_train, X_test, y_train, y_test = train_test_split(text_data,text_score, test_size = 0.20, random_state = 42)\n",
    "\n",
    "print(\"X_train:\", X_train.shape)\n",
    "print(\"X_test:\", X_test.shape)\n",
    "print(\"y_train:\", y_train.shape)\n",
    "print(\"y_test:\", y_test.shape)"
   ]
  },
  {
   "cell_type": "markdown",
   "metadata": {},
   "source": [
    "Now we use a tokenizer which fits all the text in our dataset, it then assigns an integer to each learned word which allows us to convert each entry to a sequence of numbers. These sequences can then be easily passed to our neural network"
   ]
  },
  {
   "cell_type": "code",
   "execution_count": 6,
   "metadata": {},
   "outputs": [],
   "source": [
    "# We create a tokenizer which will give a word_index integer value to each word\n",
    "tokenizer = Tokenizer(num_words=10000, lower=True, split=' ', document_count=0)\n",
    "\n",
    "# Create the word_index list based on all our data\n",
    "tokenizer.fit_on_texts(text_data)\n",
    "\n",
    "# Now we make a list of sequences of integers based on our texts\n",
    "X_train_seq = tokenizer.texts_to_sequences(X_train)\n",
    "X_test_seq = tokenizer.texts_to_sequences(X_test)"
   ]
  },
  {
   "cell_type": "markdown",
   "metadata": {},
   "source": [
    "Because each sentence has a different length and we want to pass the same length vector to our neural network every time, we pad them adding zeros at the end of each sequence so each is 128 integers long."
   ]
  },
  {
   "cell_type": "code",
   "execution_count": 7,
   "metadata": {},
   "outputs": [],
   "source": [
    "train_data = keras.preprocessing.sequence.pad_sequences(X_train_seq,\n",
    "                                                        value=0,\n",
    "                                                        padding='post',\n",
    "                                                        maxlen=128)\n",
    "\n",
    "test_data = keras.preprocessing.sequence.pad_sequences(X_test_seq,\n",
    "                                                        value=0,\n",
    "                                                        padding='post',\n",
    "                                                        maxlen=128)"
   ]
  },
  {
   "cell_type": "code",
   "execution_count": 8,
   "metadata": {},
   "outputs": [
    {
     "name": "stdout",
     "output_type": "stream",
     "text": [
      "128 128\n"
     ]
    }
   ],
   "source": [
    "print(len(train_data[0]), len(train_data[1]))"
   ]
  },
  {
   "cell_type": "markdown",
   "metadata": {},
   "source": [
    "## Neural networks!\n",
    "\n",
    "Now we can start to build our neural network with TensorFlow. First we create an embedding layer which turns positive integers (indexes) into dense vectors of fixed size. \n",
    "After that we use a GlobalAveragePooling layer which averages all input, this is needed because we feed vectors that contain a lot of zeros, otherwise a lot of neurons will never fire. \n",
    "Then have 2 deep learning layers and in the end one node which will return whether the text that is passed will get a positive or negative score. "
   ]
  },
  {
   "cell_type": "code",
   "execution_count": 9,
   "metadata": {},
   "outputs": [
    {
     "name": "stdout",
     "output_type": "stream",
     "text": [
      "WARNING:tensorflow:From /anaconda3/lib/python3.7/site-packages/tensorflow/python/ops/resource_variable_ops.py:435: colocate_with (from tensorflow.python.framework.ops) is deprecated and will be removed in a future version.\n",
      "Instructions for updating:\n",
      "Colocations handled automatically by placer.\n",
      "_________________________________________________________________\n",
      "Layer (type)                 Output Shape              Param #   \n",
      "=================================================================\n",
      "embedding (Embedding)        (None, None, 4)           868984    \n",
      "_________________________________________________________________\n",
      "global_average_pooling1d (Gl (None, 4)                 0         \n",
      "_________________________________________________________________\n",
      "dense (Dense)                (None, 2)                 10        \n",
      "_________________________________________________________________\n",
      "dense_1 (Dense)              (None, 1)                 3         \n",
      "=================================================================\n",
      "Total params: 868,997\n",
      "Trainable params: 868,997\n",
      "Non-trainable params: 0\n",
      "_________________________________________________________________\n"
     ]
    }
   ],
   "source": [
    "vocab_size = len(tokenizer.word_index) + 1\n",
    "\n",
    "model = tf.keras.models.Sequential()\n",
    "model.add(keras.layers.Embedding(vocab_size, 4))\n",
    "model.add(keras.layers.GlobalAveragePooling1D())\n",
    "#model.add(keras.layers.Dense(4, activation=tf.nn.relu))\n",
    "#model.add(keras.layers.Dense(8, activation=tf.nn.relu))\n",
    "model.add(keras.layers.Dense(2, activation=tf.nn.relu))\n",
    "model.add(keras.layers.Dense(1, activation=tf.nn.sigmoid))\n",
    "\n",
    "model.summary()"
   ]
  },
  {
   "cell_type": "code",
   "execution_count": 10,
   "metadata": {},
   "outputs": [],
   "source": [
    "model.compile(optimizer='adam',\n",
    "              loss='binary_crossentropy',\n",
    "              metrics=['acc'])"
   ]
  },
  {
   "cell_type": "code",
   "execution_count": 11,
   "metadata": {},
   "outputs": [
    {
     "name": "stdout",
     "output_type": "stream",
     "text": [
      "Train on 159997 samples, validate on 40000 samples\n",
      "WARNING:tensorflow:From /anaconda3/lib/python3.7/site-packages/tensorflow/python/ops/math_ops.py:3066: to_int32 (from tensorflow.python.ops.math_ops) is deprecated and will be removed in a future version.\n",
      "Instructions for updating:\n",
      "Use tf.cast instead.\n",
      "Epoch 1/40\n",
      "159997/159997 [==============================] - 3s 17us/sample - loss: 0.6888 - acc: 0.5485 - val_loss: 0.6826 - val_acc: 0.5990\n",
      "Epoch 2/40\n",
      "159997/159997 [==============================] - 2s 15us/sample - loss: 0.6695 - acc: 0.6194 - val_loss: 0.6573 - val_acc: 0.6579\n",
      "Epoch 3/40\n",
      "159997/159997 [==============================] - 2s 16us/sample - loss: 0.6414 - acc: 0.6637 - val_loss: 0.6348 - val_acc: 0.6769\n",
      "Epoch 4/40\n",
      "159997/159997 [==============================] - 3s 16us/sample - loss: 0.6198 - acc: 0.6812 - val_loss: 0.6198 - val_acc: 0.6767\n",
      "Epoch 5/40\n",
      "159997/159997 [==============================] - 2s 15us/sample - loss: 0.6049 - acc: 0.6912 - val_loss: 0.6106 - val_acc: 0.6841\n",
      "Epoch 6/40\n",
      "159997/159997 [==============================] - 2s 15us/sample - loss: 0.5939 - acc: 0.6987 - val_loss: 0.6052 - val_acc: 0.6868\n",
      "Epoch 7/40\n",
      "159997/159997 [==============================] - 2s 16us/sample - loss: 0.5858 - acc: 0.7039 - val_loss: 0.6019 - val_acc: 0.6891\n",
      "Epoch 8/40\n",
      "159997/159997 [==============================] - 3s 18us/sample - loss: 0.5794 - acc: 0.7076 - val_loss: 0.6005 - val_acc: 0.6881\n",
      "Epoch 9/40\n",
      "159997/159997 [==============================] - 3s 19us/sample - loss: 0.5744 - acc: 0.7110 - val_loss: 0.5992 - val_acc: 0.6900\n",
      "Epoch 10/40\n",
      "159997/159997 [==============================] - 3s 16us/sample - loss: 0.5704 - acc: 0.7136 - val_loss: 0.5995 - val_acc: 0.6896\n",
      "Epoch 11/40\n",
      "159997/159997 [==============================] - 3s 16us/sample - loss: 0.5669 - acc: 0.7156 - val_loss: 0.6014 - val_acc: 0.6870\n",
      "Epoch 12/40\n",
      "159997/159997 [==============================] - 2s 16us/sample - loss: 0.5642 - acc: 0.7177 - val_loss: 0.6004 - val_acc: 0.6884\n",
      "Epoch 13/40\n",
      "159997/159997 [==============================] - 3s 16us/sample - loss: 0.5617 - acc: 0.7195 - val_loss: 0.6012 - val_acc: 0.6887\n",
      "Epoch 14/40\n",
      "159997/159997 [==============================] - 3s 17us/sample - loss: 0.5598 - acc: 0.7208 - val_loss: 0.6027 - val_acc: 0.6863\n",
      "Epoch 15/40\n",
      "159997/159997 [==============================] - 2s 15us/sample - loss: 0.5582 - acc: 0.7208 - val_loss: 0.6042 - val_acc: 0.6859\n",
      "Epoch 16/40\n",
      "159997/159997 [==============================] - 2s 15us/sample - loss: 0.5565 - acc: 0.7227 - val_loss: 0.6048 - val_acc: 0.6854\n",
      "Epoch 17/40\n",
      "159997/159997 [==============================] - 2s 15us/sample - loss: 0.5554 - acc: 0.7230 - val_loss: 0.6059 - val_acc: 0.6853\n",
      "Epoch 18/40\n",
      "159997/159997 [==============================] - 2s 15us/sample - loss: 0.5543 - acc: 0.7235 - val_loss: 0.6070 - val_acc: 0.6853\n",
      "Epoch 19/40\n",
      "159997/159997 [==============================] - 2s 15us/sample - loss: 0.5532 - acc: 0.7243 - val_loss: 0.6095 - val_acc: 0.6836\n",
      "Epoch 20/40\n",
      "159997/159997 [==============================] - 2s 15us/sample - loss: 0.5522 - acc: 0.7247 - val_loss: 0.6090 - val_acc: 0.6833\n",
      "Epoch 21/40\n",
      "159997/159997 [==============================] - 2s 15us/sample - loss: 0.5515 - acc: 0.7255 - val_loss: 0.6098 - val_acc: 0.6846\n",
      "Epoch 22/40\n",
      "159997/159997 [==============================] - 2s 15us/sample - loss: 0.5508 - acc: 0.7264 - val_loss: 0.6102 - val_acc: 0.6839\n",
      "Epoch 23/40\n",
      "159997/159997 [==============================] - 2s 15us/sample - loss: 0.5500 - acc: 0.7266 - val_loss: 0.6112 - val_acc: 0.6835\n",
      "Epoch 24/40\n",
      "159997/159997 [==============================] - 2s 15us/sample - loss: 0.5496 - acc: 0.7268 - val_loss: 0.6123 - val_acc: 0.6832\n",
      "Epoch 25/40\n",
      "159997/159997 [==============================] - 2s 15us/sample - loss: 0.5491 - acc: 0.7269 - val_loss: 0.6127 - val_acc: 0.6815\n",
      "Epoch 26/40\n",
      "159997/159997 [==============================] - 2s 15us/sample - loss: 0.5486 - acc: 0.7274 - val_loss: 0.6134 - val_acc: 0.6822\n",
      "Epoch 27/40\n",
      "159997/159997 [==============================] - 2s 15us/sample - loss: 0.5481 - acc: 0.7281 - val_loss: 0.6143 - val_acc: 0.6812\n",
      "Epoch 28/40\n",
      "159997/159997 [==============================] - 2s 15us/sample - loss: 0.5480 - acc: 0.7276 - val_loss: 0.6154 - val_acc: 0.6810\n",
      "Epoch 29/40\n",
      "159997/159997 [==============================] - 2s 15us/sample - loss: 0.5475 - acc: 0.7284 - val_loss: 0.6173 - val_acc: 0.6824\n",
      "Epoch 30/40\n",
      "159997/159997 [==============================] - 2s 15us/sample - loss: 0.5469 - acc: 0.7283 - val_loss: 0.6172 - val_acc: 0.6815\n",
      "Epoch 31/40\n",
      "159997/159997 [==============================] - 2s 15us/sample - loss: 0.5468 - acc: 0.7293 - val_loss: 0.6193 - val_acc: 0.6818\n",
      "Epoch 32/40\n",
      "159997/159997 [==============================] - 2s 15us/sample - loss: 0.5466 - acc: 0.7291 - val_loss: 0.6179 - val_acc: 0.6811\n",
      "Epoch 33/40\n",
      "159997/159997 [==============================] - 2s 15us/sample - loss: 0.5462 - acc: 0.7292 - val_loss: 0.6205 - val_acc: 0.6812\n",
      "Epoch 34/40\n",
      "159997/159997 [==============================] - 2s 15us/sample - loss: 0.5461 - acc: 0.7290 - val_loss: 0.6186 - val_acc: 0.6809\n",
      "Epoch 35/40\n",
      "159997/159997 [==============================] - 2s 15us/sample - loss: 0.5460 - acc: 0.7288 - val_loss: 0.6190 - val_acc: 0.6809\n",
      "Epoch 36/40\n",
      "159997/159997 [==============================] - 3s 16us/sample - loss: 0.5455 - acc: 0.7295 - val_loss: 0.6189 - val_acc: 0.6802\n",
      "Epoch 37/40\n",
      "159997/159997 [==============================] - 2s 15us/sample - loss: 0.5456 - acc: 0.7296 - val_loss: 0.6196 - val_acc: 0.6805\n",
      "Epoch 38/40\n",
      "159997/159997 [==============================] - 2s 15us/sample - loss: 0.5451 - acc: 0.7302 - val_loss: 0.6204 - val_acc: 0.6813\n",
      "Epoch 39/40\n",
      "159997/159997 [==============================] - 2s 15us/sample - loss: 0.5451 - acc: 0.7296 - val_loss: 0.6204 - val_acc: 0.6809\n",
      "Epoch 40/40\n",
      "159997/159997 [==============================] - 2s 15us/sample - loss: 0.5448 - acc: 0.7303 - val_loss: 0.6225 - val_acc: 0.6804\n"
     ]
    }
   ],
   "source": [
    "history = model.fit(train_data,\n",
    "                    y_train,\n",
    "                    epochs=40,\n",
    "                    batch_size=512,\n",
    "                    validation_data=(test_data, y_test),\n",
    "                    verbose=1)"
   ]
  },
  {
   "cell_type": "markdown",
   "metadata": {},
   "source": [
    "As we can see our neural network achieves an accuracy of about 73% on our training data and 68% on our test data. Also notice that the accuray of the validation set goes down while that of the training goes up, meaning that we're overfitting our network."
   ]
  },
  {
   "cell_type": "code",
   "execution_count": null,
   "metadata": {},
   "outputs": [],
   "source": []
  }
 ],
 "metadata": {
  "kernelspec": {
   "display_name": "Python 3",
   "language": "python",
   "name": "python3"
  },
  "language_info": {
   "codemirror_mode": {
    "name": "ipython",
    "version": 3
   },
   "file_extension": ".py",
   "mimetype": "text/x-python",
   "name": "python",
   "nbconvert_exporter": "python",
   "pygments_lexer": "ipython3",
   "version": "3.7.3"
  }
 },
 "nbformat": 4,
 "nbformat_minor": 2
}
