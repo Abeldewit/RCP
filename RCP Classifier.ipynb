{
 "cells": [
  {
   "cell_type": "code",
   "execution_count": 1,
   "metadata": {},
   "outputs": [
    {
     "name": "stderr",
     "output_type": "stream",
     "text": [
      "Using TensorFlow backend.\n"
     ]
    }
   ],
   "source": [
    "# Necessary imports\n",
    "import nltk\n",
    "import numpy as np\n",
    "import pandas as pd\n",
    "import tensorflow as tf\n",
    "from tensorflow import keras\n",
    "from keras.preprocessing.text import Tokenizer\n",
    "import matplotlib.pyplot as plt\n",
    "from sklearn.preprocessing import normalize\n",
    "from sklearn.utils import shuffle\n",
    "from sklearn.model_selection import train_test_split"
   ]
  },
  {
   "cell_type": "code",
   "execution_count": 2,
   "metadata": {},
   "outputs": [],
   "source": [
    "df_pos = pd.read_csv(open('clean_positive_train.csv','r'), encoding='utf-8', engine='c')\n",
    "df_neg = pd.read_csv(open('clean_negative_train.csv','r'), encoding='utf-8', engine='c')\n",
    "\n",
    "df_pos['text'] = df_pos['text'].astype(str)\n",
    "df_pos['parent_text'] = df_pos['parent_text'].astype(str)\n",
    "\n",
    "df_neg['text'] = df_neg['text'].astype(str)\n",
    "df_neg['parent_text'] = df_neg['parent_text'].astype(str)"
   ]
  },
  {
   "cell_type": "code",
   "execution_count": 3,
   "metadata": {},
   "outputs": [
    {
     "data": {
      "text/html": [
       "<div>\n",
       "<style scoped>\n",
       "    .dataframe tbody tr th:only-of-type {\n",
       "        vertical-align: middle;\n",
       "    }\n",
       "\n",
       "    .dataframe tbody tr th {\n",
       "        vertical-align: top;\n",
       "    }\n",
       "\n",
       "    .dataframe thead th {\n",
       "        text-align: right;\n",
       "    }\n",
       "</style>\n",
       "<table border=\"1\" class=\"dataframe\">\n",
       "  <thead>\n",
       "    <tr style=\"text-align: right;\">\n",
       "      <th></th>\n",
       "      <th>score</th>\n",
       "      <th>ups</th>\n",
       "      <th>controversiality</th>\n",
       "      <th>parent_score</th>\n",
       "      <th>parent_ups</th>\n",
       "      <th>parent_controversiality</th>\n",
       "    </tr>\n",
       "  </thead>\n",
       "  <tbody>\n",
       "    <tr>\n",
       "      <th>count</th>\n",
       "      <td>49999.0</td>\n",
       "      <td>49999.000000</td>\n",
       "      <td>49999.000000</td>\n",
       "      <td>49999.000000</td>\n",
       "      <td>49999.000000</td>\n",
       "      <td>49999.000000</td>\n",
       "    </tr>\n",
       "    <tr>\n",
       "      <th>mean</th>\n",
       "      <td>1.0</td>\n",
       "      <td>198.448509</td>\n",
       "      <td>0.000020</td>\n",
       "      <td>0.990240</td>\n",
       "      <td>369.154003</td>\n",
       "      <td>0.000700</td>\n",
       "    </tr>\n",
       "    <tr>\n",
       "      <th>std</th>\n",
       "      <td>0.0</td>\n",
       "      <td>256.498200</td>\n",
       "      <td>0.004472</td>\n",
       "      <td>0.098311</td>\n",
       "      <td>530.071252</td>\n",
       "      <td>0.026449</td>\n",
       "    </tr>\n",
       "    <tr>\n",
       "      <th>min</th>\n",
       "      <td>1.0</td>\n",
       "      <td>66.000000</td>\n",
       "      <td>0.000000</td>\n",
       "      <td>0.000000</td>\n",
       "      <td>-8907.000000</td>\n",
       "      <td>0.000000</td>\n",
       "    </tr>\n",
       "    <tr>\n",
       "      <th>25%</th>\n",
       "      <td>1.0</td>\n",
       "      <td>83.000000</td>\n",
       "      <td>0.000000</td>\n",
       "      <td>1.000000</td>\n",
       "      <td>84.000000</td>\n",
       "      <td>0.000000</td>\n",
       "    </tr>\n",
       "    <tr>\n",
       "      <th>50%</th>\n",
       "      <td>1.0</td>\n",
       "      <td>116.000000</td>\n",
       "      <td>0.000000</td>\n",
       "      <td>1.000000</td>\n",
       "      <td>185.000000</td>\n",
       "      <td>0.000000</td>\n",
       "    </tr>\n",
       "    <tr>\n",
       "      <th>75%</th>\n",
       "      <td>1.0</td>\n",
       "      <td>201.000000</td>\n",
       "      <td>0.000000</td>\n",
       "      <td>1.000000</td>\n",
       "      <td>419.000000</td>\n",
       "      <td>0.000000</td>\n",
       "    </tr>\n",
       "    <tr>\n",
       "      <th>max</th>\n",
       "      <td>1.0</td>\n",
       "      <td>4865.000000</td>\n",
       "      <td>1.000000</td>\n",
       "      <td>1.000000</td>\n",
       "      <td>9531.000000</td>\n",
       "      <td>1.000000</td>\n",
       "    </tr>\n",
       "  </tbody>\n",
       "</table>\n",
       "</div>"
      ],
      "text/plain": [
       "         score           ups  controversiality  parent_score    parent_ups  \\\n",
       "count  49999.0  49999.000000      49999.000000  49999.000000  49999.000000   \n",
       "mean       1.0    198.448509          0.000020      0.990240    369.154003   \n",
       "std        0.0    256.498200          0.004472      0.098311    530.071252   \n",
       "min        1.0     66.000000          0.000000      0.000000  -8907.000000   \n",
       "25%        1.0     83.000000          0.000000      1.000000     84.000000   \n",
       "50%        1.0    116.000000          0.000000      1.000000    185.000000   \n",
       "75%        1.0    201.000000          0.000000      1.000000    419.000000   \n",
       "max        1.0   4865.000000          1.000000      1.000000   9531.000000   \n",
       "\n",
       "       parent_controversiality  \n",
       "count             49999.000000  \n",
       "mean                  0.000700  \n",
       "std                   0.026449  \n",
       "min                   0.000000  \n",
       "25%                   0.000000  \n",
       "50%                   0.000000  \n",
       "75%                   0.000000  \n",
       "max                   1.000000  "
      ]
     },
     "execution_count": 3,
     "metadata": {},
     "output_type": "execute_result"
    }
   ],
   "source": [
    "df_pos.describe()"
   ]
  },
  {
   "cell_type": "code",
   "execution_count": 4,
   "metadata": {},
   "outputs": [
    {
     "data": {
      "text/html": [
       "<div>\n",
       "<style scoped>\n",
       "    .dataframe tbody tr th:only-of-type {\n",
       "        vertical-align: middle;\n",
       "    }\n",
       "\n",
       "    .dataframe tbody tr th {\n",
       "        vertical-align: top;\n",
       "    }\n",
       "\n",
       "    .dataframe thead th {\n",
       "        text-align: right;\n",
       "    }\n",
       "</style>\n",
       "<table border=\"1\" class=\"dataframe\">\n",
       "  <thead>\n",
       "    <tr style=\"text-align: right;\">\n",
       "      <th></th>\n",
       "      <th>score</th>\n",
       "      <th>ups</th>\n",
       "      <th>controversiality</th>\n",
       "      <th>parent_score</th>\n",
       "      <th>parent_ups</th>\n",
       "      <th>parent_controversiality</th>\n",
       "    </tr>\n",
       "  </thead>\n",
       "  <tbody>\n",
       "    <tr>\n",
       "      <th>count</th>\n",
       "      <td>49999.0</td>\n",
       "      <td>49999.000000</td>\n",
       "      <td>49999.000000</td>\n",
       "      <td>49999.000000</td>\n",
       "      <td>49999.000000</td>\n",
       "      <td>49999.000000</td>\n",
       "    </tr>\n",
       "    <tr>\n",
       "      <th>mean</th>\n",
       "      <td>0.0</td>\n",
       "      <td>-14.564351</td>\n",
       "      <td>0.001460</td>\n",
       "      <td>0.912598</td>\n",
       "      <td>66.805736</td>\n",
       "      <td>0.002740</td>\n",
       "    </tr>\n",
       "    <tr>\n",
       "      <th>std</th>\n",
       "      <td>0.0</td>\n",
       "      <td>15.274812</td>\n",
       "      <td>0.038183</td>\n",
       "      <td>0.282426</td>\n",
       "      <td>216.581912</td>\n",
       "      <td>0.052274</td>\n",
       "    </tr>\n",
       "    <tr>\n",
       "      <th>min</th>\n",
       "      <td>0.0</td>\n",
       "      <td>-634.000000</td>\n",
       "      <td>0.000000</td>\n",
       "      <td>0.000000</td>\n",
       "      <td>-1622.000000</td>\n",
       "      <td>0.000000</td>\n",
       "    </tr>\n",
       "    <tr>\n",
       "      <th>25%</th>\n",
       "      <td>0.0</td>\n",
       "      <td>-15.000000</td>\n",
       "      <td>0.000000</td>\n",
       "      <td>1.000000</td>\n",
       "      <td>6.000000</td>\n",
       "      <td>0.000000</td>\n",
       "    </tr>\n",
       "    <tr>\n",
       "      <th>50%</th>\n",
       "      <td>0.0</td>\n",
       "      <td>-10.000000</td>\n",
       "      <td>0.000000</td>\n",
       "      <td>1.000000</td>\n",
       "      <td>15.000000</td>\n",
       "      <td>0.000000</td>\n",
       "    </tr>\n",
       "    <tr>\n",
       "      <th>75%</th>\n",
       "      <td>0.0</td>\n",
       "      <td>-8.000000</td>\n",
       "      <td>0.000000</td>\n",
       "      <td>1.000000</td>\n",
       "      <td>44.000000</td>\n",
       "      <td>0.000000</td>\n",
       "    </tr>\n",
       "    <tr>\n",
       "      <th>max</th>\n",
       "      <td>0.0</td>\n",
       "      <td>-6.000000</td>\n",
       "      <td>1.000000</td>\n",
       "      <td>1.000000</td>\n",
       "      <td>14776.000000</td>\n",
       "      <td>1.000000</td>\n",
       "    </tr>\n",
       "  </tbody>\n",
       "</table>\n",
       "</div>"
      ],
      "text/plain": [
       "         score           ups  controversiality  parent_score    parent_ups  \\\n",
       "count  49999.0  49999.000000      49999.000000  49999.000000  49999.000000   \n",
       "mean       0.0    -14.564351          0.001460      0.912598     66.805736   \n",
       "std        0.0     15.274812          0.038183      0.282426    216.581912   \n",
       "min        0.0   -634.000000          0.000000      0.000000  -1622.000000   \n",
       "25%        0.0    -15.000000          0.000000      1.000000      6.000000   \n",
       "50%        0.0    -10.000000          0.000000      1.000000     15.000000   \n",
       "75%        0.0     -8.000000          0.000000      1.000000     44.000000   \n",
       "max        0.0     -6.000000          1.000000      1.000000  14776.000000   \n",
       "\n",
       "       parent_controversiality  \n",
       "count             49999.000000  \n",
       "mean                  0.002740  \n",
       "std                   0.052274  \n",
       "min                   0.000000  \n",
       "25%                   0.000000  \n",
       "50%                   0.000000  \n",
       "75%                   0.000000  \n",
       "max                   1.000000  "
      ]
     },
     "execution_count": 4,
     "metadata": {},
     "output_type": "execute_result"
    }
   ],
   "source": [
    "df_neg.describe()"
   ]
  },
  {
   "cell_type": "markdown",
   "metadata": {},
   "source": [
    "We now have a a fraction of our dataset cleaned and loaded. The next step is to combine the two datasets, and shuffle them. After that we divide the datasets in a train and test set."
   ]
  },
  {
   "cell_type": "code",
   "execution_count": 18,
   "metadata": {},
   "outputs": [
    {
     "name": "stdout",
     "output_type": "stream",
     "text": [
      "X_train: (79998,)\n",
      "X_test: (20000,)\n",
      "y_train: (79998,)\n",
      "y_test: (20000,)\n"
     ]
    }
   ],
   "source": [
    "# First we concatenate both lists and shuffle it to scrabble positive and negative\n",
    "df = pd.concat([df_pos, df_neg])\n",
    "df = df.sample(frac=1).reset_index(drop=True)\n",
    "df.dropna(axis=0, inplace=True)\n",
    "\n",
    "# Second we split our data for training and testing\n",
    "df['combined'] = df[['text', 'parent_text']].apply(lambda x: ' '.join(x), axis=1)\n",
    "\n",
    "text_data = df['combined']\n",
    "text_score = df['score']\n",
    "# parent_text_data = df['parent_text']\n",
    "# parent_text_score = df['parent_score']\n",
    "X_train, X_test, y_train, y_test = train_test_split(text_data,text_score, test_size = 0.20, random_state = 42)\n",
    "\n",
    "print(\"X_train:\", X_train.shape)\n",
    "print(\"X_test:\", X_test.shape)\n",
    "print(\"y_train:\", y_train.shape)\n",
    "print(\"y_test:\", y_test.shape)"
   ]
  },
  {
   "cell_type": "markdown",
   "metadata": {},
   "source": [
    "Now we use a tokenizer which fits all the text in our dataset, it then assigns an integer to each learned word which allows us to convert each entry to a sequence of numbers. These sequences can then be easily passed to our neural network"
   ]
  },
  {
   "cell_type": "code",
   "execution_count": 19,
   "metadata": {},
   "outputs": [],
   "source": [
    "# We create a tokenizer which will give a word_index integer value to each word\n",
    "tokenizer = Tokenizer(num_words=10000, lower=True, split=' ', document_count=0)\n",
    "\n",
    "# Create the word_index list based on all our data\n",
    "tokenizer.fit_on_texts(text_data)\n",
    "\n",
    "# Now we make a list of sequences of integers based on our texts\n",
    "X_train_seq = tokenizer.texts_to_sequences(X_train)\n",
    "X_test_seq = tokenizer.texts_to_sequences(X_test)"
   ]
  },
  {
   "cell_type": "markdown",
   "metadata": {},
   "source": [
    "Because each sentence has a different length and we want to pass the same length vector to our neural network every time, we pad them adding zeros at the end of each sequence so each is 128 integers long."
   ]
  },
  {
   "cell_type": "code",
   "execution_count": 20,
   "metadata": {},
   "outputs": [],
   "source": [
    "train_data = keras.preprocessing.sequence.pad_sequences(X_train_seq,\n",
    "                                                        value=0,\n",
    "                                                        padding='post',\n",
    "                                                        maxlen=128)\n",
    "\n",
    "test_data = keras.preprocessing.sequence.pad_sequences(X_test_seq,\n",
    "                                                        value=0,\n",
    "                                                        padding='post',\n",
    "                                                        maxlen=128)"
   ]
  },
  {
   "cell_type": "code",
   "execution_count": 28,
   "metadata": {},
   "outputs": [
    {
     "name": "stdout",
     "output_type": "stream",
     "text": [
      "128 128\n"
     ]
    }
   ],
   "source": [
    "print(len(train_data[0]), len(train_data[1]))"
   ]
  },
  {
   "cell_type": "markdown",
   "metadata": {},
   "source": [
    "## Neural networks!\n",
    "\n",
    "Now we can start to build our neural network with TensorFlow. First we create an embedding layer which turns positive integers (indexes) into dense vectors of fixed size. \n",
    "After that we use a GlobalAveragePooling layer which averages all input, this is needed because we feed vectors that contain a lot of zeros, otherwise a lot of neurons will never fire. \n",
    "Then have 2 deep learning layers and in the end one node which will return whether the text that is passed will get a positive or negative score. "
   ]
  },
  {
   "cell_type": "code",
   "execution_count": 22,
   "metadata": {},
   "outputs": [
    {
     "name": "stdout",
     "output_type": "stream",
     "text": [
      "_________________________________________________________________\n",
      "Layer (type)                 Output Shape              Param #   \n",
      "=================================================================\n",
      "embedding_3 (Embedding)      (None, None, 16)          2237840   \n",
      "_________________________________________________________________\n",
      "global_average_pooling1d_3 ( (None, 16)                0         \n",
      "_________________________________________________________________\n",
      "dense_10 (Dense)             (None, 32)                544       \n",
      "_________________________________________________________________\n",
      "dense_11 (Dense)             (None, 16)                528       \n",
      "_________________________________________________________________\n",
      "dense_12 (Dense)             (None, 1)                 17        \n",
      "=================================================================\n",
      "Total params: 2,238,929\n",
      "Trainable params: 2,238,929\n",
      "Non-trainable params: 0\n",
      "_________________________________________________________________\n"
     ]
    }
   ],
   "source": [
    "vocab_size = len(tokenizer.word_index) + 1\n",
    "\n",
    "model = tf.keras.models.Sequential()\n",
    "model.add(keras.layers.Embedding(vocab_size, 16))\n",
    "model.add(keras.layers.GlobalAveragePooling1D())\n",
    "model.add(keras.layers.Dense(32, activation=tf.nn.relu))\n",
    "#model.add(keras.layers.Dense(24, activation=tf.nn.relu))\n",
    "model.add(keras.layers.Dense(16, activation=tf.nn.relu))\n",
    "model.add(keras.layers.Dense(1, activation=tf.nn.sigmoid))\n",
    "\n",
    "model.summary()"
   ]
  },
  {
   "cell_type": "code",
   "execution_count": 23,
   "metadata": {},
   "outputs": [],
   "source": [
    "model.compile(optimizer='adam',\n",
    "              loss='binary_crossentropy',\n",
    "              metrics=['acc'])"
   ]
  },
  {
   "cell_type": "code",
   "execution_count": 24,
   "metadata": {},
   "outputs": [
    {
     "name": "stdout",
     "output_type": "stream",
     "text": [
      "Train on 79998 samples, validate on 20000 samples\n",
      "Epoch 1/40\n",
      "79998/79998 [==============================] - 3s 40us/sample - loss: 0.6830 - acc: 0.5731 - val_loss: 0.6543 - val_acc: 0.6455\n",
      "Epoch 2/40\n",
      "79998/79998 [==============================] - 3s 36us/sample - loss: 0.6178 - acc: 0.6760 - val_loss: 0.6067 - val_acc: 0.6813\n",
      "Epoch 3/40\n",
      "79998/79998 [==============================] - 3s 36us/sample - loss: 0.5772 - acc: 0.7057 - val_loss: 0.5971 - val_acc: 0.6854\n",
      "Epoch 4/40\n",
      "79998/79998 [==============================] - 3s 36us/sample - loss: 0.5562 - acc: 0.7195 - val_loss: 0.5988 - val_acc: 0.6840\n",
      "Epoch 5/40\n",
      "79998/79998 [==============================] - 3s 36us/sample - loss: 0.5447 - acc: 0.7280 - val_loss: 0.6111 - val_acc: 0.6738\n",
      "Epoch 6/40\n",
      "79998/79998 [==============================] - 3s 37us/sample - loss: 0.5346 - acc: 0.7357 - val_loss: 0.6120 - val_acc: 0.6738\n",
      "Epoch 7/40\n",
      "79998/79998 [==============================] - 3s 37us/sample - loss: 0.5297 - acc: 0.7389 - val_loss: 0.6212 - val_acc: 0.6736\n",
      "Epoch 8/40\n",
      "79998/79998 [==============================] - 3s 37us/sample - loss: 0.5229 - acc: 0.7447 - val_loss: 0.6170 - val_acc: 0.6768\n",
      "Epoch 9/40\n",
      "79998/79998 [==============================] - 3s 38us/sample - loss: 0.5166 - acc: 0.7480 - val_loss: 0.6184 - val_acc: 0.6744\n",
      "Epoch 10/40\n",
      "79998/79998 [==============================] - 3s 37us/sample - loss: 0.5113 - acc: 0.7513 - val_loss: 0.6236 - val_acc: 0.6700\n",
      "Epoch 11/40\n",
      "79998/79998 [==============================] - 3s 37us/sample - loss: 0.5036 - acc: 0.7574 - val_loss: 0.6283 - val_acc: 0.6732\n",
      "Epoch 12/40\n",
      "79998/79998 [==============================] - 3s 38us/sample - loss: 0.4987 - acc: 0.7588 - val_loss: 0.6360 - val_acc: 0.6714\n",
      "Epoch 13/40\n",
      "79998/79998 [==============================] - 3s 38us/sample - loss: 0.4906 - acc: 0.7637 - val_loss: 0.6490 - val_acc: 0.6701\n",
      "Epoch 14/40\n",
      "79998/79998 [==============================] - 3s 37us/sample - loss: 0.4847 - acc: 0.7674 - val_loss: 0.6561 - val_acc: 0.6651\n",
      "Epoch 15/40\n",
      "79998/79998 [==============================] - 3s 38us/sample - loss: 0.4776 - acc: 0.7709 - val_loss: 0.6633 - val_acc: 0.6665\n",
      "Epoch 16/40\n",
      "79998/79998 [==============================] - 3s 38us/sample - loss: 0.4716 - acc: 0.7747 - val_loss: 0.6755 - val_acc: 0.6627\n",
      "Epoch 17/40\n",
      "79998/79998 [==============================] - 3s 40us/sample - loss: 0.4640 - acc: 0.7779 - val_loss: 0.6846 - val_acc: 0.6626\n",
      "Epoch 18/40\n",
      "79998/79998 [==============================] - 3s 36us/sample - loss: 0.4586 - acc: 0.7812 - val_loss: 0.6884 - val_acc: 0.6592\n",
      "Epoch 19/40\n",
      "79998/79998 [==============================] - 3s 38us/sample - loss: 0.4511 - acc: 0.7862 - val_loss: 0.7053 - val_acc: 0.6572\n",
      "Epoch 20/40\n",
      "79998/79998 [==============================] - 3s 39us/sample - loss: 0.4446 - acc: 0.7895 - val_loss: 0.7237 - val_acc: 0.6558\n",
      "Epoch 21/40\n",
      "79998/79998 [==============================] - 3s 36us/sample - loss: 0.4380 - acc: 0.7943 - val_loss: 0.7392 - val_acc: 0.6470\n",
      "Epoch 22/40\n",
      "79998/79998 [==============================] - 3s 37us/sample - loss: 0.4306 - acc: 0.7974 - val_loss: 0.7358 - val_acc: 0.6536\n",
      "Epoch 23/40\n",
      "79998/79998 [==============================] - 3s 37us/sample - loss: 0.4238 - acc: 0.8008 - val_loss: 0.7600 - val_acc: 0.6485\n",
      "Epoch 24/40\n",
      "79998/79998 [==============================] - 3s 35us/sample - loss: 0.4169 - acc: 0.8052 - val_loss: 0.7706 - val_acc: 0.6496\n",
      "Epoch 25/40\n",
      "79998/79998 [==============================] - 3s 36us/sample - loss: 0.4107 - acc: 0.8088 - val_loss: 0.7874 - val_acc: 0.6471\n",
      "Epoch 26/40\n",
      "79998/79998 [==============================] - 3s 36us/sample - loss: 0.4057 - acc: 0.8108 - val_loss: 0.8145 - val_acc: 0.6513\n",
      "Epoch 27/40\n",
      "79998/79998 [==============================] - 3s 35us/sample - loss: 0.3972 - acc: 0.8164 - val_loss: 0.8181 - val_acc: 0.6439\n",
      "Epoch 28/40\n",
      "79998/79998 [==============================] - 3s 37us/sample - loss: 0.3921 - acc: 0.8184 - val_loss: 0.8378 - val_acc: 0.6467\n",
      "Epoch 29/40\n",
      "79998/79998 [==============================] - 3s 37us/sample - loss: 0.3850 - acc: 0.8223 - val_loss: 0.8693 - val_acc: 0.6464\n",
      "Epoch 30/40\n",
      "79998/79998 [==============================] - 3s 38us/sample - loss: 0.3799 - acc: 0.8250 - val_loss: 0.8790 - val_acc: 0.6475\n",
      "Epoch 31/40\n",
      "79998/79998 [==============================] - 3s 36us/sample - loss: 0.3742 - acc: 0.8275 - val_loss: 0.9007 - val_acc: 0.6449\n",
      "Epoch 32/40\n",
      "79998/79998 [==============================] - 3s 36us/sample - loss: 0.3670 - acc: 0.8322 - val_loss: 0.9337 - val_acc: 0.6439\n",
      "Epoch 33/40\n",
      "79998/79998 [==============================] - 3s 36us/sample - loss: 0.3615 - acc: 0.8349 - val_loss: 0.9702 - val_acc: 0.6403\n",
      "Epoch 34/40\n",
      "79998/79998 [==============================] - 3s 38us/sample - loss: 0.3564 - acc: 0.8359 - val_loss: 0.9916 - val_acc: 0.6425\n",
      "Epoch 35/40\n",
      "79998/79998 [==============================] - 3s 36us/sample - loss: 0.3521 - acc: 0.8390 - val_loss: 1.0127 - val_acc: 0.6388\n",
      "Epoch 36/40\n",
      "79998/79998 [==============================] - 3s 37us/sample - loss: 0.3468 - acc: 0.8422 - val_loss: 1.0340 - val_acc: 0.6378\n",
      "Epoch 37/40\n",
      "79998/79998 [==============================] - 3s 37us/sample - loss: 0.3419 - acc: 0.8431 - val_loss: 1.0485 - val_acc: 0.6345\n",
      "Epoch 38/40\n",
      "79998/79998 [==============================] - 3s 37us/sample - loss: 0.3371 - acc: 0.8464 - val_loss: 1.0848 - val_acc: 0.6268\n",
      "Epoch 39/40\n",
      "79998/79998 [==============================] - 3s 38us/sample - loss: 0.3313 - acc: 0.8490 - val_loss: 1.1158 - val_acc: 0.6341\n",
      "Epoch 40/40\n",
      "79998/79998 [==============================] - 3s 37us/sample - loss: 0.3254 - acc: 0.8524 - val_loss: 1.1365 - val_acc: 0.6356\n"
     ]
    }
   ],
   "source": [
    "history = model.fit(train_data,\n",
    "                    y_train,\n",
    "                    epochs=40,\n",
    "                    batch_size=512,\n",
    "                    validation_data=(test_data, y_test),\n",
    "                    verbose=1)"
   ]
  },
  {
   "cell_type": "markdown",
   "metadata": {},
   "source": [
    "As we can see our neural network achieves an accuracy of about 85% on our training data, and 64% on our test data. Which means that we're overfitting our network just a bit"
   ]
  },
  {
   "cell_type": "code",
   "execution_count": null,
   "metadata": {},
   "outputs": [],
   "source": []
  }
 ],
 "metadata": {
  "kernelspec": {
   "display_name": "Python 3",
   "language": "python",
   "name": "python3"
  },
  "language_info": {
   "codemirror_mode": {
    "name": "ipython",
    "version": 3
   },
   "file_extension": ".py",
   "mimetype": "text/x-python",
   "name": "python",
   "nbconvert_exporter": "python",
   "pygments_lexer": "ipython3",
   "version": "3.7.3"
  }
 },
 "nbformat": 4,
 "nbformat_minor": 2
}
