{
 "cells": [
  {
   "cell_type": "code",
   "execution_count": 1,
   "metadata": {},
   "outputs": [
    {
     "name": "stderr",
     "output_type": "stream",
     "text": [
      "Using TensorFlow backend.\n"
     ]
    }
   ],
   "source": [
    "# Necessary imports\n",
    "import nltk\n",
    "import glob\n",
    "import scipy\n",
    "import numpy as np\n",
    "import pandas as pd\n",
    "import tensorflow as tf\n",
    "from tensorflow import keras\n",
    "from keras.preprocessing.text import Tokenizer\n",
    "import matplotlib.pyplot as plt\n",
    "from fuzzywuzzy import fuzz\n",
    "from sklearn.preprocessing import normalize\n",
    "from sklearn.utils import shuffle\n",
    "from sklearn.model_selection import train_test_split"
   ]
  },
  {
   "cell_type": "code",
   "execution_count": 2,
   "metadata": {},
   "outputs": [],
   "source": [
    "pos_files = glob.glob(\"data/clean_positive_train_*.csv\")\n",
    "neg_files = glob.glob(\"data/clean_negative_train_*.csv\")\n",
    "\n",
    "df_pos_list = [pd.read_csv(open(fp, 'r'), encoding='utf-8', engine='c') for fp in pos_files]\n",
    "df_neg_list = [pd.read_csv(open(fp, 'r'), encoding='utf-8', engine='c') for fp in neg_files]"
   ]
  },
  {
   "cell_type": "code",
   "execution_count": 3,
   "metadata": {},
   "outputs": [],
   "source": [
    "# Making it a binary classification with either positive or negative score\n",
    "def posneg(number):\n",
    "    if number > 0:\n",
    "        return 1\n",
    "    else:\n",
    "        return 0"
   ]
  },
  {
   "cell_type": "markdown",
   "metadata": {},
   "source": [
    "Now we make features for each dataset that we have, calculating all these features takes a long long time..."
   ]
  },
  {
   "cell_type": "code",
   "execution_count": null,
   "metadata": {},
   "outputs": [],
   "source": [
    "df = [pd.concat([df_pos, df_neg]) for (df_pos, df_neg) in zip(df_pos_list, df_neg_list)]\n",
    "\n",
    "from profanity_check import predict as prof_predict\n",
    "from profanity_check import predict_prob\n",
    "from textblob import TextBlob\n",
    "\n",
    "\n",
    "for index in range(200):\n",
    "    df[index] = df[index].sample(frac=1).reset_index(drop=True)\n",
    "    df[index]['score'] = df[index]['score'].apply(posneg)\n",
    "    df[index]['parent_score'] = df[index]['parent_score'].apply(posneg)\n",
    "    \n",
    "    df[index]['sentiment'] = [TextBlob(text).sentiment.polarity for text in df[index]['text'].astype(str)]\n",
    "    df[index]['profanity'] = [prof_predict([text]) for text in df[index]['text'].astype(str)]\n",
    "    df[index]['profanity_prob'] = [predict_prob([text]) for text in df[index]['text'].astype(str)]\n",
    "    df[index]['profanity'] = df[index]['profanity'].astype(int)\n",
    "    df[index]['profanity_prob'] = df[index]['profanity_prob'].astype(float)\n",
    "\n",
    "\n",
    "# Now we have scrambeled dataframes of 20000 entries, with features such as binary scores and profanity\n",
    "df[0].head()"
   ]
  },
  {
   "cell_type": "code",
   "execution_count": null,
   "metadata": {},
   "outputs": [],
   "source": [
    "df[0].describe()"
   ]
  },
  {
   "cell_type": "code",
   "execution_count": null,
   "metadata": {},
   "outputs": [],
   "source": [
    "df[23].describe()"
   ]
  },
  {
   "cell_type": "code",
   "execution_count": null,
   "metadata": {},
   "outputs": [],
   "source": [
    "sentiment = df[0]['sentiment'].values[:, None]\n",
    "profanity = df[0]['profanity'].values[:, None]\n",
    "features = np.hstack((sentiment, profanity))\n",
    "print(features.shape)"
   ]
  },
  {
   "cell_type": "code",
   "execution_count": null,
   "metadata": {},
   "outputs": [],
   "source": [
    "text_data = []\n",
    "text_score = []\n",
    "\n",
    "X_train = []\n",
    "X_test = []\n",
    "y_train = []\n",
    "y_test = []\n",
    "\n",
    "for n in range(200):\n",
    "    text_data.append(np.hstack((df[n]['sentiment'].values[:, None], df[n]['profanity'].values[:, None], df[n]['profanity_prob'].values[:, None])))\n",
    "    text_score.append(df[n]['score'].apply(posneg))\n",
    "    \n",
    "    X_train_tmp, X_test_tmp, y_train_tmp, y_test_tmp = train_test_split(text_data[n], text_score[n], test_size=0.20, random_state=42)\n",
    "    X_train.append(X_train_tmp)\n",
    "    X_test.append(X_test_tmp)\n",
    "    y_train.append(y_train_tmp)\n",
    "    y_test.append(y_test_tmp)"
   ]
  },
  {
   "cell_type": "markdown",
   "metadata": {},
   "source": [
    "## Finally we can do some neural networks!"
   ]
  },
  {
   "cell_type": "code",
   "execution_count": null,
   "metadata": {},
   "outputs": [],
   "source": [
    "model = tf.keras.models.Sequential()\n",
    "model.add(keras.layers.Embedding(3, 16))\n",
    "model.add(keras.layers.Dense(16, activation=tf.nn.relu))\n",
    "model.add(keras.layers.Dense(24, activation=tf.nn.relu))\n",
    "model.add(keras.layers.Dense(16, activation=tf.nn.relu))\n",
    "model.add(keras.layers.Dense(1, activation=tf.nn.sigmoid))\n",
    "\n",
    "model.summary()"
   ]
  },
  {
   "cell_type": "code",
   "execution_count": null,
   "metadata": {},
   "outputs": [],
   "source": [
    "model.compile(optimizer='adam',\n",
    "              loss='binary_crossentropy',\n",
    "              metrics=['acc'])"
   ]
  },
  {
   "cell_type": "code",
   "execution_count": null,
   "metadata": {},
   "outputs": [],
   "source": [
    "train_data = X_train[0]\n",
    "test_data = X_test[0]\n",
    "\n",
    "history = model.fit(train_data,\n",
    "                    y_train[0],\n",
    "                    epochs=40,\n",
    "                    batch_size=512,\n",
    "                    validation_data=(test_data, y_test[0]),\n",
    "                    verbose=1)"
   ]
  },
  {
   "cell_type": "code",
   "execution_count": null,
   "metadata": {},
   "outputs": [],
   "source": []
  }
 ],
 "metadata": {
  "kernelspec": {
   "display_name": "Python 3",
   "language": "python",
   "name": "python3"
  },
  "language_info": {
   "codemirror_mode": {
    "name": "ipython",
    "version": 3
   },
   "file_extension": ".py",
   "mimetype": "text/x-python",
   "name": "python",
   "nbconvert_exporter": "python",
   "pygments_lexer": "ipython3",
   "version": "3.7.3"
  }
 },
 "nbformat": 4,
 "nbformat_minor": 2
}
