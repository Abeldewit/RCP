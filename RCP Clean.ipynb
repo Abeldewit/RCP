{
 "cells": [
  {
   "cell_type": "code",
   "execution_count": 1,
   "metadata": {},
   "outputs": [],
   "source": [
    "# Necessary imports\n",
    "import nltk\n",
    "import numpy as np\n",
    "import pandas as pd\n",
    "import tensorflow as ts\n",
    "import matplotlib.pyplot as plt"
   ]
  },
  {
   "cell_type": "code",
   "execution_count": 2,
   "metadata": {},
   "outputs": [
    {
     "name": "stdout",
     "output_type": "stream",
     "text": [
      "Originial (2000000, 15)\n",
      "NaN removed (1999977, 15)\n",
      "Originial (2000000, 15)\n",
      "NaN removed (1999951, 15)\n"
     ]
    }
   ],
   "source": [
    "# Reading in the positive voted comments and removing NaN rows\n",
    "df_pos_full = pd.read_csv('comments_positive.csv')\n",
    "print('Originial', df_pos_full.shape)\n",
    "df_pos_full.dropna(axis=0, inplace=True)\n",
    "print('NaN removed',df_pos_full.shape)\n",
    "\n",
    "# Reading in the negative voted comments and removing NaN rows\n",
    "df_neg_full = pd.read_csv('comments_negative.csv')\n",
    "print('Originial', df_neg_full.shape)\n",
    "df_neg_full.dropna(axis=0, inplace=True)\n",
    "print('NaN removed',df_neg_full.shape)"
   ]
  },
  {
   "cell_type": "code",
   "execution_count": 3,
   "metadata": {},
   "outputs": [],
   "source": [
    "# df_pos_full.head()"
   ]
  },
  {
   "cell_type": "code",
   "execution_count": 4,
   "metadata": {},
   "outputs": [],
   "source": [
    "# df_neg_full.head()"
   ]
  },
  {
   "cell_type": "code",
   "execution_count": 5,
   "metadata": {},
   "outputs": [],
   "source": [
    "# Our dataset consists of two times 2 million comments (rows) so we split it for easier experimenting. \n",
    "# 1% of 2 million = 20000\n",
    "# df_pos = df_pos_full.sample(frac=0.025,random_state=200)\n",
    "# df_neg = df_neg_full.sample(frac=0.025,random_state=200)\n",
    "# df_pos = df_pos.reset_index(drop=True)\n",
    "# df_neg = df_neg.reset_index(drop=True)\n",
    "\n",
    "# print(df_pos.shape)\n",
    "# print(df_neg.shape)"
   ]
  },
  {
   "cell_type": "markdown",
   "metadata": {},
   "source": [
    "We're splitting the data in 200 seperate pieces with each 10000 entries"
   ]
  },
  {
   "cell_type": "code",
   "execution_count": 13,
   "metadata": {},
   "outputs": [],
   "source": [
    "df_pos_split = np.array_split(df_pos_full, 200)\n",
    "df_neg_split = np.array_split(df_neg_full, 200)"
   ]
  },
  {
   "cell_type": "markdown",
   "metadata": {},
   "source": [
    "As we can see in our dataset, the most important columns for our language processing are `text` and `parent_text`\n",
    "\n",
    "So let's get some statistics about these columns!"
   ]
  },
  {
   "cell_type": "code",
   "execution_count": 7,
   "metadata": {},
   "outputs": [],
   "source": [
    "# num_words_pos = df_pos['text'].apply(lambda x: len(x.split()))\n",
    "# num_words_neg = df_neg['text'].apply(lambda x: len(x.split()))\n",
    "\n",
    "# pos_words_mean, pos_words_std = np.mean(num_words_pos), np.std(num_words_pos)\n",
    "# neg_words_mean, neg_words_std = np.mean(num_words_neg), np.std(num_words_neg)\n",
    "\n",
    "# print(\"Positive stats:\", pos_words_mean, pos_words_std)\n",
    "# print(\"Negative stats:\", neg_words_mean, neg_words_std)"
   ]
  },
  {
   "cell_type": "code",
   "execution_count": null,
   "metadata": {},
   "outputs": [],
   "source": [
    "def clean(text, stemming=False, stop_words=True):\n",
    "    import re\n",
    "    from string import punctuation\n",
    "    from nltk.stem import SnowballStemmer\n",
    "    from nltk.corpus import stopwords\n",
    "    from nltk import word_tokenize\n",
    "    \n",
    "    stops = stopwords.words('english')\n",
    "    \n",
    "    # Empty comment\n",
    "    if type(text) != str or text=='':\n",
    "        return ''\n",
    "    \n",
    "    # Commence the cleaning!\n",
    "    text = re.sub(\"\\'re\", \" are\", text)\n",
    "    text = re.sub(\"\\'ve\", \" have\", text)\n",
    "    text = re.sub(\"\\'d\", \" would\", text)\n",
    "    text = re.sub(\"cant\", \"can not\", text)\n",
    "    text = re.sub(\"can\\'t\", \"can not\", text)\n",
    "    text = re.sub(\"isn\\'t\", \"is not\", text)\n",
    "    text = re.sub(\"isnt\", \"is not\", text)\n",
    "    text = re.sub(\"whats\", \"what is\", text)\n",
    "    text = re.sub(\"what\\'s\", \"what is\", text)\n",
    "    text = re.sub(\"shouldn't\", \"should not\", text, flags=re.IGNORECASE)\n",
    "    text = re.sub(\"I'm\", \"I am\", text)\n",
    "    text = re.sub(\":\", \" \", text)\n",
    "    # The comments contain \\n for line breaks, we need to remove those too\n",
    "    text = re.sub(\"\\\\n\", \" \", text)\n",
    "    \n",
    "    # Special characters\n",
    "    text = re.sub('\\&', \" and \", text)\n",
    "    text = re.sub('\\$', \" dollar \", text)\n",
    "    text = re.sub('\\%', \" percent \", text)\n",
    "    \n",
    "    # Remove punctuation\n",
    "    text = ''.join([word for word in text if word not in punctuation]).lower()\n",
    "    \n",
    "    # If we want to do stemming...\n",
    "    if stemming:\n",
    "        sno = SnowballStemmer('english')\n",
    "        text = ''.join([sno.stem[word] for word in text])\n",
    "    \n",
    "    # If we want to remove stop words...\n",
    "    if stop_words:\n",
    "        text = text.split()\n",
    "        text = [word for word in text if word not in stops]\n",
    "        text = ' '.join(text)\n",
    "    \n",
    "    return text\n",
    "    "
   ]
  },
  {
   "cell_type": "markdown",
   "metadata": {},
   "source": [
    "That was the first half of a million"
   ]
  },
  {
   "cell_type": "code",
   "execution_count": 25,
   "metadata": {
    "scrolled": true
   },
   "outputs": [],
   "source": [
    "from pathlib import Path\n",
    "for n in range(200):\n",
    "    \n",
    "    # Clean the text\n",
    "    df_pos_split[n]['text'] = df_pos_split[n]['text'].apply(clean)\n",
    "    df_pos_split[n]['parent_text'] = df_pos_split[n]['parent_text'].apply(clean)\n",
    "    df_neg_split[n]['text'] = df_neg_split[n]['text'].apply(clean)\n",
    "    df_neg_split[n]['parent_text'] = df_neg_split[n]['parent_text'].apply(clean)\n",
    "\n",
    "    df_pos_split[n].dropna(axis=0, inplace=True)\n",
    "    df_neg_split[n].dropna(axis=0, inplace=True)\n",
    "    \n",
    "    # We don't need all columns\n",
    "    col_write = ['text', 'score', 'ups', 'controversiality', 'parent_text', 'parent_score', 'parent_ups', 'parent_controversiality']\n",
    "    # Save everything in the 'data' folder\n",
    "    p = Path('data/')\n",
    "    number = str(n)\n",
    "    df_pos_split[n].to_csv(Path(p, 'clean_positive_train_' + number + '.csv'), columns=col_write, index=False)\n",
    "    df_neg_split[n].to_csv(Path(p, 'clean_negative_train_' + number + '.csv'), columns=col_write, index=False)"
   ]
  },
  {
   "cell_type": "markdown",
   "metadata": {},
   "source": [
    "Now we have 200 clean files for both positive and negative (so 400 total) which we can slowly feed to our neural network to get better and better"
   ]
  },
  {
   "cell_type": "code",
   "execution_count": null,
   "metadata": {},
   "outputs": [],
   "source": []
  }
 ],
 "metadata": {
  "kernelspec": {
   "display_name": "Python 3",
   "language": "python",
   "name": "python3"
  },
  "language_info": {
   "codemirror_mode": {
    "name": "ipython",
    "version": 3
   },
   "file_extension": ".py",
   "mimetype": "text/x-python",
   "name": "python",
   "nbconvert_exporter": "python",
   "pygments_lexer": "ipython3",
   "version": "3.7.3"
  }
 },
 "nbformat": 4,
 "nbformat_minor": 1
}
